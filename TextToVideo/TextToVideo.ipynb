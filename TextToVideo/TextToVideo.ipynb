{
 "cells": [
  {
   "cell_type": "code",
   "execution_count": 17,
   "id": "0ffc6f49",
   "metadata": {},
   "outputs": [],
   "source": [
    "import cv2\n",
    "import time\n",
    "import os"
   ]
  },
  {
   "cell_type": "code",
   "execution_count": 18,
   "id": "7e3ea59f",
   "metadata": {},
   "outputs": [],
   "source": [
    "cwd = os.getcwd()"
   ]
  },
  {
   "cell_type": "code",
   "execution_count": 21,
   "id": "c791ba2f",
   "metadata": {},
   "outputs": [],
   "source": [
    "def text_to_video(string):\n",
    "    string = string.upper()\n",
    "    for ch in string:\n",
    "        if ch == \" \":\n",
    "            ch = \"Space\"\n",
    "        img = cv2.imread(cwd+ '//data//ASL_Dataset//Test//'+ch+\"//\"+'3001.jpg', cv2.IMREAD_COLOR)\n",
    "        cv2.putText(img=img, text=ch, org=(50, 50), fontFace=cv2.FONT_HERSHEY_TRIPLEX, fontScale=2, color=(0, 0,255),thickness=2)\n",
    "        cv2.imshow(\"Image\", img)\n",
    "        cv2.waitKey(800)\n",
    "        cv2.destroyAllWindows()\n",
    "        "
   ]
  },
  {
   "cell_type": "code",
   "execution_count": 22,
   "id": "5e3a9ea7",
   "metadata": {},
   "outputs": [],
   "source": [
    "text_to_video(\"My name is Yatin\")"
   ]
  },
  {
   "cell_type": "code",
   "execution_count": null,
   "id": "a7f016ac",
   "metadata": {},
   "outputs": [],
   "source": []
  }
 ],
 "metadata": {
  "kernelspec": {
   "display_name": "SignTech",
   "language": "python",
   "name": "signtech"
  },
  "language_info": {
   "codemirror_mode": {
    "name": "ipython",
    "version": 3
   },
   "file_extension": ".py",
   "mimetype": "text/x-python",
   "name": "python",
   "nbconvert_exporter": "python",
   "pygments_lexer": "ipython3",
   "version": "3.9.6"
  }
 },
 "nbformat": 4,
 "nbformat_minor": 5
}
