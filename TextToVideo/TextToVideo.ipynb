{
 "cells": [
  {
   "cell_type": "code",
   "execution_count": 1,
   "id": "0ffc6f49",
   "metadata": {},
   "outputs": [],
   "source": [
    "import cv2\n",
    "import time\n",
    "import os"
   ]
  },
  {
   "cell_type": "code",
   "execution_count": 2,
   "id": "e8f927b4",
   "metadata": {},
   "outputs": [],
   "source": [
    "cwd = os.getcwd()"
   ]
  },
  {
   "cell_type": "code",
   "execution_count": 7,
   "id": "c791ba2f",
   "metadata": {},
   "outputs": [],
   "source": [
    "def text_to_video(string):\n",
    "    string = string.upper()\n",
    "    string_display = \"\"\n",
    "    img_array = []\n",
    "    \n",
    "    for ch in string:\n",
    "        string_display += ch\n",
    "        if ch == \" \":   \n",
    "\n",
    "\n",
    "\n",
    "            \n",
    "            ch = \"Space\"\n",
    "        img = cv2.imread(cwd+ '//data//ASL_Dataset//Test//'+ch+\"//\"+'3001.jpg', cv2.IMREAD_COLOR)\n",
    "        cv2.putText(img=img, text=string_display, org=(20, 370), fontFace=cv2.FONT_HERSHEY_TRIPLEX, fontScale=1, color=(255, 255,255),thickness=1)\n",
    "        \n",
    "        img_array.append(img)\n",
    "        height, width, layers = img.shape\n",
    "        size = (width,height)\n",
    "#         cv2.imshow(\"Image\", img)\n",
    "#         cv2.waitKey(800)\n",
    "#         cv2.destroyAllWindows()\n",
    "    \n",
    "    out = cv2.VideoWriter('project.avi',cv2.VideoWriter_fourcc(*'DIVX'), 1.5, size)\n",
    " \n",
    "    for i in range(len(img_array)):\n",
    "        out.write(img_array[i])\n",
    "    out.release()"
   ]
  },
  {
   "cell_type": "code",
   "execution_count": 8,
   "id": "5e3a9ea7",
   "metadata": {},
   "outputs": [],
   "source": [
    "text_to_video(\"My name is Yatin\")"
   ]
  },
  {
   "cell_type": "code",
   "execution_count": null,
   "id": "d0667282",
   "metadata": {},
   "outputs": [],
   "source": []
  }
 ],
 "metadata": {
  "interpreter": {
   "hash": "17d3c47e01c8d2d87d9e93381cd0429c120a0f22dbe405c98032296d31d00ceb"
  },
  "kernelspec": {
   "display_name": "SignTech",
   "language": "python",
   "name": "python3"
  },
  "language_info": {
   "codemirror_mode": {
    "name": "ipython",
    "version": 3
   },
   "file_extension": ".py",
   "mimetype": "text/x-python",
   "name": "python",
   "nbconvert_exporter": "python",
   "pygments_lexer": "ipython3",
   "version": "3.9.7"
  }
 },
 "nbformat": 4,
 "nbformat_minor": 5
}
